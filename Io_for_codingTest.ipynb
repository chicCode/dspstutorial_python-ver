{
 "cells": [
  {
   "cell_type": "markdown",
   "metadata": {},
   "source": [
    "## 알고리즘 코딩테스트 자주 쓰이는 Python Code"
   ]
  },
  {
   "cell_type": "markdown",
   "metadata": {},
   "source": [
    "### 1. 코딩 테스트 기본 입출력에 사용되는 python 코드"
   ]
  },
  {
   "cell_type": "markdown",
   "metadata": {},
   "source": [
    "*코딩 테스트에서 입출력 시 자주 쓰는 python 코드를 알아두면 유용합니다.* <br>\n",
    "*보통 문제가 주어지면, 입력과 출력 예시가 나오고, 이는 정해진 형식이 반복되기 <br> 때문에 입출력에 대한 기본적인 코드를 알아두는 것이 중요합니다.*"
   ]
  },
  {
   "cell_type": "markdown",
   "metadata": {},
   "source": [
    "### 2. 입력을 위한 전형적인 코드"
   ]
  },
  {
   "cell_type": "markdown",
   "metadata": {},
   "source": [
    "#### 2.1 공백을 기준으로 구분해서 적은 수의 데이터 입력"
   ]
  },
  {
   "cell_type": "markdown",
   "metadata": {},
   "source": [
    "*각각의 변수로 받아야 할때가 있는데, 예를 들어 n개, <br> 최소값 m, 최대값 k 이런식으로 받아야 할 경우에는 아래와 같은 코드를 사용할 수 있다.*"
   ]
  },
  {
   "cell_type": "code",
   "execution_count": 1,
   "metadata": {},
   "outputs": [
    {
     "name": "stdout",
     "output_type": "stream",
     "text": [
      "1 3 5\n",
      "1 3 5\n"
     ]
    }
   ],
   "source": [
    "# n,m,k를 공백 구분으로 입력\n",
    "n,m,k = map(int,input().split())\n",
    "print(n,m,k)"
   ]
  },
  {
   "cell_type": "markdown",
   "metadata": {},
   "source": [
    "#### 2.2 입력이 많은 경우 sys.stdin.readline()"
   ]
  },
  {
   "cell_type": "markdown",
   "metadata": {},
   "source": [
    "*참고로 C++에서는 cin보다 scanf_s로 입력받는 것이 버퍼 관련 이슈로 인해서 더 빠르다고 한다. <br>\n",
    "마찬가지로 python에서도 input()은 입력이 많은 경우 시간이 느려질 수 있다. <br>\n",
    "<br>\n",
    "이 때 사용할 수 있는 함수가 바로 sys.stdin.readline()이다. <br>*\n",
    "\n",
    "***특히, 반복문으로 여러 줄 입력받는 상황에서는 반드시 sys.stdin.readline()을 사용해야 한다.***"
   ]
  },
  {
   "cell_type": "code",
   "execution_count": 4,
   "metadata": {},
   "outputs": [
    {
     "data": {
      "text/plain": [
       "''"
      ]
     },
     "execution_count": 4,
     "metadata": {},
     "output_type": "execute_result"
    }
   ],
   "source": [
    "# rstrip이유 => 개행문자 제거!\n",
    "import sys\n",
    "sys.stdin.readline().rstrip()"
   ]
  },
  {
   "cell_type": "markdown",
   "metadata": {},
   "source": [
    "예시) https://www.acmicpc.net/problem/15552"
   ]
  },
  {
   "cell_type": "code",
   "execution_count": 8,
   "metadata": {},
   "outputs": [],
   "source": [
    "#import sys\n",
    "#T = int(input()) # Test Case\n",
    "#for i in range(T):\n",
    "    #a,b = map(int, sys.stdin.readline().split())\n",
    "    #print(a+b)"
   ]
  },
  {
   "cell_type": "markdown",
   "metadata": {},
   "source": [
    "### 3. 출력을 위한 전형적인 코드"
   ]
  },
  {
   "cell_type": "markdown",
   "metadata": {},
   "source": [
    "*파이썬 출력을 기본적으로 print()를 사용한다.* <br>\n",
    "***print() 특징*** <br>\n",
    "*1. 출력하고 자동으로 줄바꿈이 기본적으로 된다. <br>\n",
    "2.,를 사용해서 여러 개 출력이 가능하다. <br>\n",
    "이때 공백으로 구분되어 출력된다. <br>\n",
    "3.문자열로 출력시 +연산자를 사용하는데, int형을 더하면 str()로 변환 후 해주어야 한다.*"
   ]
  },
  {
   "cell_type": "code",
   "execution_count": 12,
   "metadata": {},
   "outputs": [
    {
     "name": "stdout",
     "output_type": "stream",
     "text": [
      "비밀번호는 1234입니다.\n"
     ]
    }
   ],
   "source": [
    "a = 1234\n",
    "print(f\"비밀번호는 {a}입니다.\")"
   ]
  }
 ],
 "metadata": {
  "kernelspec": {
   "display_name": "Python 3",
   "language": "python",
   "name": "python3"
  },
  "language_info": {
   "codemirror_mode": {
    "name": "ipython",
    "version": 3
   },
   "file_extension": ".py",
   "mimetype": "text/x-python",
   "name": "python",
   "nbconvert_exporter": "python",
   "pygments_lexer": "ipython3",
   "version": "3.8.5"
  }
 },
 "nbformat": 4,
 "nbformat_minor": 4
}
